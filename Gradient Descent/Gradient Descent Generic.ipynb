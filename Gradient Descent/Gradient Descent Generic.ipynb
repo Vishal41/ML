{
 "cells": [
  {
   "cell_type": "code",
   "execution_count": 15,
   "metadata": {
    "collapsed": true
   },
   "outputs": [],
   "source": [
    "import numpy as np\n",
    "import pandas as pd\n",
    "from sklearn.preprocessing import StandardScaler\n",
    "sc = StandardScaler()"
   ]
  },
  {
   "cell_type": "code",
   "execution_count": 16,
   "metadata": {
    "collapsed": true
   },
   "outputs": [],
   "source": [
    "data = np.loadtxt(\"0000000000002419_training_ccpp_x_y_train.csv\", delimiter=\",\")\n",
    "data.shape\n",
    "data1 = np.loadtxt(\"0000000000002419_test_ccpp_x_test.csv\", delimiter=\",\")"
   ]
  },
  {
   "cell_type": "code",
   "execution_count": 17,
   "metadata": {
    "collapsed": true
   },
   "outputs": [],
   "source": [
    "def step_grad2(x, y, m, learning_rate):\n",
    "    M = len(x)\n",
    "    m_slope = np.zeros(len(x[0]))\n",
    "    N = len(x[0])\n",
    "    for i in range(M):\n",
    "        m_x = (m * x[i]).sum()\n",
    "        for j in range(N):\n",
    "            m_slope[j] += (2/M) * (y[i]-m_x) * x[i,j]\n",
    "    new_m = m - (learning_rate * m_slope)\n",
    "    return new_m"
   ]
  },
  {
   "cell_type": "code",
   "execution_count": 18,
   "metadata": {
    "collapsed": true
   },
   "outputs": [],
   "source": [
    "def gd(x, y, learning_rate, num_iterations):\n",
    "    m = np.zeros(len(x[0]))\n",
    "    M = len(x)\n",
    "    for i in range(num_iterations):\n",
    "        m = step_grad2(x, y, m, learning_rate)\n",
    "    return m"
   ]
  },
  {
   "cell_type": "code",
   "execution_count": 19,
   "metadata": {
    "collapsed": true
   },
   "outputs": [],
   "source": [
    "def predict(x, m):\n",
    "    y_pred = np.zeros(len(x))\n",
    "    M = len(x)\n",
    "    N = len(x[0])\n",
    "    for i in range(M):\n",
    "        for j in range(N):\n",
    "            y_pred[i] += m[j] * x[i,j]\n",
    "    return y_pred"
   ]
  },
  {
   "cell_type": "code",
   "execution_count": 20,
   "metadata": {
    "collapsed": true
   },
   "outputs": [],
   "source": [
    "def score(y, y_pred):\n",
    "    M = len(y)\n",
    "    u, v = 0, 0\n",
    "    for i in range(M):\n",
    "        u += (y[i] - y_pred[i])**2\n",
    "        v += (y[i] - y.mean())**2\n",
    "    return 1 - (u/v)"
   ]
  },
  {
   "cell_type": "code",
   "execution_count": 21,
   "metadata": {
    "collapsed": true
   },
   "outputs": [],
   "source": [
    "def run():\n",
    "    y = data[:,-1]\n",
    "    x = data[:,0:-1]\n",
    "    x = sc.fit_transform(x)\n",
    "    x = np.append(x,np.ones((len(x),1)),axis=1)\n",
    "    x_test = sc.transform(data1)\n",
    "    x_test = np.append(x_test, np.ones((len(data1),1)), axis=1)\n",
    "    print(x.shape)\n",
    "    learning_rate = -0.3\n",
    "    num_iterations = 100\n",
    "    m = gd(x, y, learning_rate, num_iterations)\n",
    "    y_pred = predict(x,m)\n",
    "    print(score(y,y_pred))"
   ]
  },
  {
   "cell_type": "code",
   "execution_count": 22,
   "metadata": {},
   "outputs": [
    {
     "name": "stdout",
     "output_type": "stream",
     "text": [
      "(7176, 5)\n",
      "0.928763074653\n"
     ]
    }
   ],
   "source": [
    "run()"
   ]
  }
 ],
 "metadata": {
  "kernelspec": {
   "display_name": "Python 3",
   "language": "python",
   "name": "python3"
  },
  "language_info": {
   "codemirror_mode": {
    "name": "ipython",
    "version": 3
   },
   "file_extension": ".py",
   "mimetype": "text/x-python",
   "name": "python",
   "nbconvert_exporter": "python",
   "pygments_lexer": "ipython3",
   "version": "3.6.2"
  }
 },
 "nbformat": 4,
 "nbformat_minor": 2
}
