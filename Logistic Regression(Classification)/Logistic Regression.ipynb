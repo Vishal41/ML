{
 "cells": [
  {
   "cell_type": "code",
   "execution_count": 1,
   "metadata": {
    "collapsed": true
   },
   "outputs": [],
   "source": [
    "import numpy as np\n",
    "import pandas as pd\n",
    "import math\n",
    "from sklearn.datasets import load_breast_cancer\n",
    "from sklearn import model_selection"
   ]
  },
  {
   "cell_type": "code",
   "execution_count": 2,
   "metadata": {
    "collapsed": true
   },
   "outputs": [],
   "source": [
    "def h_x(z):\n",
    "    if z >= 0:\n",
    "        w = math.exp(-z)\n",
    "        return 1 / (1 + w)\n",
    "    else:\n",
    "        w = math.exp(z)\n",
    "        return w / (1 + w)"
   ]
  },
  {
   "cell_type": "code",
   "execution_count": 3,
   "metadata": {
    "collapsed": true
   },
   "outputs": [],
   "source": [
    "def step_grad(x, y, m, learning_rate, lamb):\n",
    "    M = len(x)\n",
    "    m_slope = np.zeros(len(x[0]))\n",
    "    N = len(x[0])\n",
    "    for i in range(M):\n",
    "        m_t_x = (np.transpose(m) * x[i]).sum()\n",
    "        for j in range(N):\n",
    "            m_slope[j] += (-1/M) * (y[i] - h_x(m_t_x)) * x[i,j]\n",
    "            m_slope[j] += 2 * lamb * m[j]\n",
    "    new_m = m - (learning_rate * m_slope)\n",
    "    return new_m"
   ]
  },
  {
   "cell_type": "code",
   "execution_count": 4,
   "metadata": {
    "collapsed": true
   },
   "outputs": [],
   "source": [
    "def gd(x, y, learning_rate, num_iterations, lamb):\n",
    "    m = np.zeros(len(x[0]))\n",
    "    M = len(x)\n",
    "    for i in range(num_iterations):\n",
    "        m = step_grad(x, y, m, learning_rate, lamb)\n",
    "    return m"
   ]
  },
  {
   "cell_type": "code",
   "execution_count": 5,
   "metadata": {
    "collapsed": true
   },
   "outputs": [],
   "source": [
    "def predict(x, m):\n",
    "    p = np.zeros(len(x))\n",
    "    M = len(x)\n",
    "    N = len(x[0])\n",
    "    for i in range(M):\n",
    "        m_t_x = (np.transpose(m) * x[i]).sum()\n",
    "        if m_t_x <= 0:\n",
    "            p[i] = 0\n",
    "        else:\n",
    "            p[i] = 1\n",
    "    return p"
   ]
  },
  {
   "cell_type": "code",
   "execution_count": 6,
   "metadata": {
    "collapsed": true
   },
   "outputs": [],
   "source": [
    "def score(y, y_pred):\n",
    "    M = len(y)\n",
    "    u, v = 0, 0\n",
    "    for i in range(M):\n",
    "        u += (y[i] - y_pred[i])**2\n",
    "        v += (y[i] - y.mean())**2\n",
    "    return 1 - (u/v)"
   ]
  },
  {
   "cell_type": "code",
   "execution_count": 16,
   "metadata": {
    "collapsed": true
   },
   "outputs": [],
   "source": [
    "def run():\n",
    "    data = load_breast_cancer()\n",
    "    x = data.data\n",
    "    x = np.append(x,np.ones((len(x),1)),axis=1)\n",
    "    y = data.target\n",
    "    X_train, X_test, Y_train, Y_test = model_selection.train_test_split(x, y, random_state=0)\n",
    "    learning_rate = 0.00001\n",
    "    num_iterations = 100\n",
    "    lamb = 0\n",
    "    m = gd(X_train, Y_train, learning_rate, num_iterations, lamb)\n",
    "    y_pred = predict(X_test,m)\n",
    "    a = ((y_pred-Y_test)**2).sum()\n",
    "    print((len(Y_test) - a)/len(Y_test))"
   ]
  },
  {
   "cell_type": "code",
   "execution_count": 17,
   "metadata": {},
   "outputs": [
    {
     "name": "stdout",
     "output_type": "stream",
     "text": [
      "0.832167832168\n"
     ]
    }
   ],
   "source": [
    "run()"
   ]
  }
 ],
 "metadata": {
  "kernelspec": {
   "display_name": "Python 3",
   "language": "python",
   "name": "python3"
  },
  "language_info": {
   "codemirror_mode": {
    "name": "ipython",
    "version": 3
   },
   "file_extension": ".py",
   "mimetype": "text/x-python",
   "name": "python",
   "nbconvert_exporter": "python",
   "pygments_lexer": "ipython3",
   "version": "3.6.2"
  }
 },
 "nbformat": 4,
 "nbformat_minor": 2
}
