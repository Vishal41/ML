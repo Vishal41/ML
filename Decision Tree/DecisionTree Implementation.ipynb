{
 "cells": [
  {
   "cell_type": "code",
   "execution_count": 86,
   "metadata": {
    "collapsed": true
   },
   "outputs": [],
   "source": [
    "import numpy as np\n",
    "import math\n",
    "from sklearn import model_selection"
   ]
  },
  {
   "cell_type": "code",
   "execution_count": 87,
   "metadata": {
    "collapsed": true
   },
   "outputs": [],
   "source": [
    "dataset = np.loadtxt(\"cleaned_titanic.csv\")\n",
    "x = dataset[:,0:-1]\n",
    "y = dataset[:,-1]\n",
    "x_train, x_test, y_train, y_test = model_selection.train_test_split(x, y)\n",
    "data = np.append(x_train, y_train.reshape(-1,1), axis=1)"
   ]
  },
  {
   "cell_type": "code",
   "execution_count": 88,
   "metadata": {
    "collapsed": true
   },
   "outputs": [],
   "source": [
    "# Function to calculate gini_index\n",
    "def gini_index(y):\n",
    "    p2 = 0\n",
    "    for i in set(y):\n",
    "        pi = y.tolist().count(i)/len(y)\n",
    "        p2 += pi**2\n",
    "    return 1 - p2"
   ]
  },
  {
   "cell_type": "code",
   "execution_count": 89,
   "metadata": {
    "collapsed": true
   },
   "outputs": [],
   "source": [
    "# For Creating the Decision Tree\n",
    "def decTreeCreate(data, fs, ofs, tree, indx):\n",
    "    x = data[:,0:-1]\n",
    "    y = data[:,-1]\n",
    "    if len(fs) == 0:\n",
    "        return\n",
    "    \n",
    "    if len(set(y)) == 1:\n",
    "        return\n",
    "    \n",
    "    # Current gini index\n",
    "    cur_gini = gini_index(y)\n",
    "    \n",
    "    l = np.zeros(len(fs)) # List for storing delta gini index\n",
    "    for i in range(len(fs)):\n",
    "        for j in set(x[:,i]):\n",
    "            y_split = data[np.where(data[:,i] == j)][:,-1]\n",
    "            split_gini = gini_index(y_split)\n",
    "            l[i] += len(y_split)/len(y) * split_gini\n",
    "        l[i] = cur_gini - l[i]\n",
    "    b = l.tolist().index(max(l))\n",
    "    o_b = ofs.index(fs[b])\n",
    "    # Remove the feature on which split was done\n",
    "    fs1 = fs.copy()\n",
    "    fs1.remove(fs1[b])\n",
    "    \n",
    "    # All classes of values in x for selected feature\n",
    "    f_distinct_values = list(set(x[:,b]))\n",
    "    n = len(f_distinct_values)\n",
    "    \n",
    "    # Split number 1\n",
    "    # Contains half the classes of values in x for feature selected above \n",
    "    data_split1 = data[np.where(data[:,b] == f_distinct_values[0])]\n",
    "    for j in range(1, n//2 + 1):\n",
    "        split = data[np.where(data[:,b] == f_distinct_values[j])]\n",
    "        np.append(data_split1, split)\n",
    "    \n",
    "    # Remove the selected feature form x \n",
    "    data_split1 = np.delete(data_split1, b, axis=1)\n",
    "    y_split1 = data_split1[:,-1]\n",
    "    \n",
    "    # First child node for current node\n",
    "    \"\"\" Node contains \n",
    "        1.feature: index of feature on which split was done\n",
    "        2.feature_values: classes of values in x for 'feature'\n",
    "        3.pred: Value that could be predicted for current node\n",
    "        4.final: 1 if leaf node , 0 otherwise\n",
    "    \"\"\"\n",
    "    node1 = {\n",
    "        'feature': o_b,\n",
    "        'feature_values': f_distinct_values[0:n//2+1],\n",
    "    }\n",
    "    z = 0\n",
    "    p_i = y_split1[0]\n",
    "    for i in set(y_split1):\n",
    "        if y_split1.tolist().count(i) > z:\n",
    "            z = y_split1.tolist().count(i)\n",
    "            p_i = i\n",
    "    node1['pred'] = p_i\n",
    "    node1['final'] = 0\n",
    "    if len(set(y_split1)) == 1:\n",
    "        node1['pred'] = y_split1[0]\n",
    "        node1['final'] = 1\n",
    "    elif len(fs) == 0:\n",
    "        node1['final'] = 1\n",
    "\n",
    "    # Split number 2\n",
    "    data_split2 = data[np.where(data[:,b] == f_distinct_values[n//2])]\n",
    "    for j in range(n//2+1, n):\n",
    "        split = data[np.where(data[:,b] == f_distinct_values[j])]\n",
    "        np.append(data_split2, split)\n",
    "        \n",
    "    data_split2 = np.delete(data_split2, b, axis=1)\n",
    "    y_split2 = data_split2[:,-1]\n",
    "    node2 = {\n",
    "        'feature': o_b,\n",
    "        'feature_values': f_distinct_values[n//2:n]\n",
    "    }\n",
    "    z = 0\n",
    "    p_i = y_split2[0]\n",
    "    for i in set(y_split2):\n",
    "        if y_split2.tolist().count(i) > z:\n",
    "            x = y_split2.tolist().count(i)\n",
    "            p_i = i\n",
    "    node2['pred'] = p_i\n",
    "    node2['final'] = 0\n",
    "    if len(set(y_split2)) == 1:\n",
    "        node2['pred'] = y_split2[0]\n",
    "        node2['final'] = 1\n",
    "    elif len(fs) == 0:\n",
    "        node2['final'] = 1\n",
    "\n",
    "    # Add the nodes in tree\n",
    "    tree[indx] = node1\n",
    "    tree[indx+1] = node2\n",
    "    \n",
    "    # Make recursive calls for both nodes\n",
    "    decTreeCreate(data_split1, fs1, ofs, tree, 2*indx)\n",
    "    decTreeCreate(data_split2, fs1, ofs, tree, 2*(indx + 1))"
   ]
  },
  {
   "cell_type": "code",
   "execution_count": 90,
   "metadata": {},
   "outputs": [
    {
     "data": {
      "text/plain": [
       "['Pclass', 'Sex', 'Age', 'SibSp', 'a', 'b']"
      ]
     },
     "execution_count": 90,
     "metadata": {},
     "output_type": "execute_result"
    }
   ],
   "source": [
    "# List of features\n",
    "fs = ['Pclass','Sex','Age','SibSp','a','b']\n",
    "fs"
   ]
  },
  {
   "cell_type": "code",
   "execution_count": 91,
   "metadata": {},
   "outputs": [
    {
     "data": {
      "text/plain": [
       "[0.0,\n",
       " 0.0,\n",
       " {'feature': 1, 'feature_values': [1.0, 2.0], 'final': 0, 'pred': 0.0},\n",
       " {'feature': 1, 'feature_values': [2.0], 'final': 0, 'pred': 1.0},\n",
       " {'feature': 2, 'feature_values': [1.0, 2.0, 3.0], 'final': 0, 'pred': 1.0},\n",
       " {'feature': 2, 'feature_values': [3.0, 4.0], 'final': 0, 'pred': 1.0},\n",
       " {'feature': 0, 'feature_values': [1.0, 2.0], 'final': 1, 'pred': 1.0},\n",
       " {'feature': 0, 'feature_values': [2.0, 3.0], 'final': 0, 'pred': 1.0},\n",
       " {'feature': 3,\n",
       "  'feature_values': [0.0, 1.0, 2.0, 3.0],\n",
       "  'final': 1,\n",
       "  'pred': 1.0},\n",
       " {'feature': 3, 'feature_values': [3.0, 4.0, 5.0], 'final': 1, 'pred': 0.0},\n",
       " {'feature': 0, 'feature_values': [1.0, 2.0], 'final': 0, 'pred': 0.0},\n",
       " {'feature': 0, 'feature_values': [2.0, 3.0], 'final': 0, 'pred': 1.0},\n",
       " 0.0,\n",
       " 0.0,\n",
       " {'feature': 2, 'feature_values': [1.0, 2.0, 3.0], 'final': 1, 'pred': 1.0},\n",
       " {'feature': 2, 'feature_values': [3.0, 4.0], 'final': 1, 'pred': 1.0},\n",
       " 0.0,\n",
       " 0.0,\n",
       " 0.0,\n",
       " 0.0,\n",
       " {'feature': 3, 'feature_values': [0.0, 1.0], 'final': 0, 'pred': 0.0},\n",
       " {'feature': 3, 'feature_values': [1.0], 'final': 0, 'pred': 1.0},\n",
       " {'feature': 5, 'feature_values': [1.0, 3.0], 'final': 1, 'pred': 0.0},\n",
       " {'feature': 5, 'feature_values': [3.0], 'final': 0, 'pred': 1.0},\n",
       " 0.0,\n",
       " 0.0,\n",
       " 0.0,\n",
       " 0.0,\n",
       " 0.0,\n",
       " 0.0,\n",
       " 0.0,\n",
       " 0.0,\n",
       " 0.0,\n",
       " 0.0,\n",
       " 0.0,\n",
       " 0.0,\n",
       " 0.0,\n",
       " 0.0,\n",
       " 0.0,\n",
       " 0.0,\n",
       " {'feature': 5, 'feature_values': [1.0, 3.0], 'final': 0, 'pred': 0.0},\n",
       " {'feature': 5, 'feature_values': [3.0], 'final': 0, 'pred': 1.0},\n",
       " {'feature': 4, 'feature_values': [0.0, 2.0], 'final': 0, 'pred': 1.0},\n",
       " {'feature': 4, 'feature_values': [2.0], 'final': 1, 'pred': 1.0},\n",
       " 0.0,\n",
       " 0.0,\n",
       " {'feature': 4, 'feature_values': [0.0, 1.0], 'final': 0, 'pred': 0.0},\n",
       " {'feature': 4, 'feature_values': [1.0], 'final': 1, 'pred': 0.0},\n",
       " 0.0,\n",
       " 0.0,\n",
       " 0.0,\n",
       " 0.0,\n",
       " 0.0,\n",
       " 0.0,\n",
       " 0.0,\n",
       " 0.0,\n",
       " 0.0,\n",
       " 0.0,\n",
       " 0.0,\n",
       " 0.0,\n",
       " 0.0,\n",
       " 0.0,\n",
       " 0.0,\n",
       " 0.0,\n",
       " 0.0,\n",
       " 0.0,\n",
       " 0.0,\n",
       " 0.0,\n",
       " 0.0,\n",
       " 0.0,\n",
       " 0.0,\n",
       " 0.0,\n",
       " 0.0,\n",
       " 0.0,\n",
       " 0.0,\n",
       " 0.0,\n",
       " 0.0,\n",
       " 0.0,\n",
       " 0.0,\n",
       " 0.0,\n",
       " {'feature': 4, 'feature_values': [0.0], 'final': 0, 'pred': 0.0},\n",
       " {'feature': 4, 'feature_values': [0.0], 'final': 0, 'pred': 1.0},\n",
       " {'feature': 4, 'feature_values': [0.0, 1.0], 'final': 0, 'pred': 0.0},\n",
       " {'feature': 4, 'feature_values': [1.0], 'final': 1, 'pred': 0.0},\n",
       " {'feature': 5, 'feature_values': [3.0], 'final': 0, 'pred': 1.0},\n",
       " {'feature': 5, 'feature_values': [3.0], 'final': 0, 'pred': 1.0},\n",
       " 0.0,\n",
       " 0.0,\n",
       " 0.0,\n",
       " 0.0,\n",
       " 0.0,\n",
       " 0.0,\n",
       " {'feature': 3, 'feature_values': [0.0, 1.0], 'final': 0, 'pred': 0.0},\n",
       " {'feature': 3, 'feature_values': [1.0, 2.0], 'final': 0, 'pred': 1.0},\n",
       " 0.0,\n",
       " 0.0,\n",
       " 0.0,\n",
       " 0.0,\n",
       " 0.0,\n",
       " 0.0,\n",
       " 0.0,\n",
       " 0.0,\n",
       " 0.0,\n",
       " 0.0,\n",
       " 0.0,\n",
       " 0.0,\n",
       " 0.0,\n",
       " 0.0,\n",
       " 0.0,\n",
       " 0.0,\n",
       " 0.0,\n",
       " 0.0,\n",
       " 0.0,\n",
       " 0.0,\n",
       " 0.0,\n",
       " 0.0,\n",
       " 0.0,\n",
       " 0.0,\n",
       " 0.0,\n",
       " 0.0,\n",
       " 0.0,\n",
       " 0.0,\n",
       " 0.0,\n",
       " 0.0,\n",
       " 0.0,\n",
       " 0.0,\n",
       " 0.0,\n",
       " 0.0]"
      ]
     },
     "execution_count": 91,
     "metadata": {},
     "output_type": "execute_result"
    }
   ],
   "source": [
    "# Implementing tree using arrays\n",
    "# children for a node at position i will be at 2*i and 2*i + 1\n",
    "n = 2**(len(fs)+1)\n",
    "tree = np.zeros(n).tolist() # Complete binary tree\n",
    "decTreeCreate(data, fs, fs, tree, 2)\n",
    "tree"
   ]
  },
  {
   "cell_type": "code",
   "execution_count": 92,
   "metadata": {
    "collapsed": true
   },
   "outputs": [],
   "source": [
    "# Function to predict for each row of x_test\n",
    "def predict(x):\n",
    "    i = 2\n",
    "    while i < len(tree):\n",
    "        node = tree[i]\n",
    "        if x[node['feature']] in node['feature_values']:\n",
    "            if node['final'] == 1:\n",
    "                return node['pred']\n",
    "            elif len(tree)>2*i and type(tree[2*i]) == type(dict()):\n",
    "                i*=2\n",
    "            else:\n",
    "                return node['pred']\n",
    "        elif type(tree[i+1]) == type(dict()):\n",
    "            i += 1\n",
    "        else:\n",
    "            return node['pred']"
   ]
  },
  {
   "cell_type": "code",
   "execution_count": 93,
   "metadata": {},
   "outputs": [],
   "source": [
    "y_pred = []\n",
    "for i in range(0,len(x_test)):\n",
    "    y_pred.append(predict(x_test[i]))"
   ]
  },
  {
   "cell_type": "code",
   "execution_count": 94,
   "metadata": {},
   "outputs": [
    {
     "name": "stdout",
     "output_type": "stream",
     "text": [
      "[1.0, 1.0, 1.0, 1.0, 1.0, 1.0, 1.0, 0.0, 1.0, 1.0, 1.0, 1.0, 0.0, 1.0, 1.0, 1.0, 1.0, 1.0, 1.0, 1.0, 1.0, 1.0, 1.0, 1.0, 1.0, 1.0, 1.0, 0.0, 1.0, 1.0, 1.0, 1.0, 1.0, 1.0, 1.0, 1.0, 1.0, 1.0, 1.0, 1.0, 1.0, 1.0, 1.0, 0.0, 1.0, 1.0, 1.0, 0.0, 1.0, 1.0, 1.0, 1.0, 1.0, 1.0, 1.0, 1.0, 1.0, 1.0, 1.0, 1.0, 1.0, 1.0, 1.0, 1.0, 1.0, 1.0, 1.0, 1.0, 1.0, 1.0, 1.0, 1.0, 1.0, 1.0, 1.0, 1.0, 0.0, 1.0, 1.0, 1.0, 1.0, 1.0, 1.0, 1.0, 1.0, 1.0, 1.0, 1.0, 1.0, 1.0, 1.0, 0.0, 1.0, 1.0, 0.0, 1.0, 1.0, 1.0, 0.0, 0.0, 1.0, 1.0, 0.0, 1.0, 0.0, 1.0, 1.0, 1.0, 1.0, 0.0, 1.0, 1.0, 1.0, 1.0, 1.0, 1.0, 1.0, 1.0, 1.0, 1.0, 1.0, 1.0, 1.0, 1.0, 0.0, 1.0, 1.0, 1.0, 1.0, 1.0, 1.0, 0.0, 1.0, 1.0, 1.0, 0.0, 1.0, 1.0, 1.0, 1.0, 1.0, 1.0, 1.0, 0.0, 0.0, 0.0, 1.0, 1.0, 1.0, 1.0, 1.0, 1.0, 1.0, 1.0, 0.0, 1.0, 1.0, 1.0, 1.0, 1.0, 1.0, 1.0, 0.0, 0.0, 1.0, 1.0, 1.0]\n"
     ]
    }
   ],
   "source": [
    "print(y_pred)"
   ]
  },
  {
   "cell_type": "code",
   "execution_count": 95,
   "metadata": {},
   "outputs": [
    {
     "name": "stdout",
     "output_type": "stream",
     "text": [
      "0.455089820359\n"
     ]
    }
   ],
   "source": [
    "#Score\n",
    "a = ((y_pred-y_test)**2).sum()\n",
    "print((len(y_test) - a)/len(y_test))"
   ]
  }
 ],
 "metadata": {
  "kernelspec": {
   "display_name": "Python 3",
   "language": "python",
   "name": "python3"
  },
  "language_info": {
   "codemirror_mode": {
    "name": "ipython",
    "version": 3
   },
   "file_extension": ".py",
   "mimetype": "text/x-python",
   "name": "python",
   "nbconvert_exporter": "python",
   "pygments_lexer": "ipython3",
   "version": "3.6.2"
  }
 },
 "nbformat": 4,
 "nbformat_minor": 2
}
