{
 "cells": [
  {
   "cell_type": "code",
   "execution_count": null,
   "metadata": {
    "collapsed": true
   },
   "outputs": [],
   "source": [
    "import pandas as pd\n",
    "import numpy as np\n",
    "from sklearn.model_selection import train_test_split\n",
    "from sklearn.linear_model import LinearRegression, SGDClassifier\n",
    "from sklearn.preprocessing import MinMaxScaler"
   ]
  },
  {
   "cell_type": "code",
   "execution_count": null,
   "metadata": {
    "collapsed": true
   },
   "outputs": [],
   "source": [
    "data = pd.read_csv(\"0000000000002707_training_car_x_y_train1.csv\")\n",
    "test_data = pd.read_csv(\"0000000000002707_test_car_x_test1.csv\")"
   ]
  },
  {
   "cell_type": "code",
   "execution_count": null,
   "metadata": {
    "scrolled": true
   },
   "outputs": [],
   "source": [
    "data.head()"
   ]
  },
  {
   "cell_type": "code",
   "execution_count": null,
   "metadata": {},
   "outputs": [],
   "source": [
    "data.describe(include='all')"
   ]
  },
  {
   "cell_type": "code",
   "execution_count": null,
   "metadata": {},
   "outputs": [],
   "source": [
    "data.isnull().sum()"
   ]
  },
  {
   "cell_type": "code",
   "execution_count": null,
   "metadata": {
    "collapsed": true
   },
   "outputs": [],
   "source": [
    "del data['dateCrawled']\n",
    "del test_data['dateCrawled']"
   ]
  },
  {
   "cell_type": "code",
   "execution_count": null,
   "metadata": {
    "collapsed": true
   },
   "outputs": [],
   "source": [
    "del data['name']\n",
    "del test_data['name']"
   ]
  },
  {
   "cell_type": "code",
   "execution_count": null,
   "metadata": {
    "collapsed": true
   },
   "outputs": [],
   "source": [
    "del data['lastSeen']\n",
    "del data['postalCode']\n",
    "del test_data['lastSeen']\n",
    "del test_data['postalCode']"
   ]
  },
  {
   "cell_type": "code",
   "execution_count": null,
   "metadata": {},
   "outputs": [],
   "source": [
    "data.head()"
   ]
  },
  {
   "cell_type": "code",
   "execution_count": null,
   "metadata": {},
   "outputs": [],
   "source": [
    "y = int(data['dateCreated'][0][:4])\n",
    "m = int(data['dateCreated'][0][5:7])\n",
    "y+m/12 - (data['yearOfRegistration'][0]+data['monthOfRegistration'][0]/12)"
   ]
  },
  {
   "cell_type": "code",
   "execution_count": null,
   "metadata": {
    "collapsed": true
   },
   "outputs": [],
   "source": [
    "data['dateRegistered'] = data['yearOfRegistration'] + data['monthOfRegistration']/12\n",
    "test_data['dateRegistered'] = test_data['yearOfRegistration'] + test_data['monthOfRegistration']/12"
   ]
  },
  {
   "cell_type": "code",
   "execution_count": null,
   "metadata": {},
   "outputs": [],
   "source": [
    "data.head()"
   ]
  },
  {
   "cell_type": "code",
   "execution_count": null,
   "metadata": {
    "collapsed": true
   },
   "outputs": [],
   "source": [
    "def calculateDate(str):\n",
    "    y = int(str[:4])\n",
    "    m = int(str[5:7])\n",
    "    return y+m/12\n",
    "data['dateAdvertised'] = data['dateCreated'].apply(calculateDate)\n",
    "test_data['dateAdvertised'] = test_data['dateCreated'].apply(calculateDate)"
   ]
  },
  {
   "cell_type": "code",
   "execution_count": null,
   "metadata": {},
   "outputs": [],
   "source": [
    "data['age'] = data['dateAdvertised'] - data['dateRegistered']\n",
    "test_data['age'] = test_data['dateAdvertised'] - test_data['dateRegistered']\n",
    "data.head()"
   ]
  },
  {
   "cell_type": "code",
   "execution_count": null,
   "metadata": {
    "collapsed": true
   },
   "outputs": [],
   "source": [
    "del data['dateRegistered']\n",
    "del data['dateAdvertised']\n",
    "del data['yearOfRegistration']\n",
    "del data['monthOfRegistration']\n",
    "del data['nrOfPictures']\n",
    "del data['dateCreated']\n",
    "\n",
    "del test_data['dateRegistered']\n",
    "del test_data['dateAdvertised']\n",
    "del test_data['yearOfRegistration']\n",
    "del test_data['monthOfRegistration']\n",
    "del test_data['nrOfPictures']\n",
    "del test_data['dateCreated']"
   ]
  },
  {
   "cell_type": "code",
   "execution_count": null,
   "metadata": {
    "collapsed": true
   },
   "outputs": [],
   "source": [
    "data['vehicleType'] = data['vehicleType'].fillna('limousine')\n",
    "test_data['vehicleType'] = test_data['vehicleType'].fillna('limousine')"
   ]
  },
  {
   "cell_type": "code",
   "execution_count": null,
   "metadata": {
    "collapsed": true
   },
   "outputs": [],
   "source": [
    "data['gearbox'] = data['gearbox'].fillna('manuell')\n",
    "test_data['gearbox'] = test_data['gearbox'].fillna('manuell')"
   ]
  },
  {
   "cell_type": "code",
   "execution_count": null,
   "metadata": {
    "collapsed": true
   },
   "outputs": [],
   "source": [
    "data['fuelType'] = data['fuelType'].fillna('benzin')\n",
    "test_data['fuelType'] = test_data['fuelType'].fillna('benzin')"
   ]
  },
  {
   "cell_type": "code",
   "execution_count": null,
   "metadata": {
    "collapsed": true
   },
   "outputs": [],
   "source": [
    "data['notRepairedDamage'] = data['notRepairedDamage'].fillna('nein')\n",
    "test_data['notRepairedDamage'] = test_data['notRepairedDamage'].fillna('nein')"
   ]
  },
  {
   "cell_type": "code",
   "execution_count": null,
   "metadata": {
    "collapsed": true
   },
   "outputs": [],
   "source": [
    "data['model'] = data['model'].fillna('Not Specified')\n",
    "test_data['model'] = test_data['model'].fillna('Not Specified')"
   ]
  },
  {
   "cell_type": "code",
   "execution_count": null,
   "metadata": {},
   "outputs": [],
   "source": [
    "set(data['vehicleType'])"
   ]
  },
  {
   "cell_type": "code",
   "execution_count": null,
   "metadata": {
    "collapsed": true
   },
   "outputs": [],
   "source": [
    "def getVehicleType(str):\n",
    "    if str == 'andere':\n",
    "        return 1\n",
    "    elif str == 'bus':\n",
    "        return 2\n",
    "    elif str == 'cabrio':\n",
    "        return 3\n",
    "    elif str == 'coupe':\n",
    "        return 4\n",
    "    elif str == 'kleinwagen':\n",
    "        return 5\n",
    "    elif str == 'kombi':\n",
    "        return 6\n",
    "    elif str == 'limousine':\n",
    "        return 7\n",
    "    else:\n",
    "        return 8\n",
    "data['vehicleType'] = data['vehicleType'].apply(getVehicleType)\n",
    "test_data['vehicleType'] = test_data['vehicleType'].apply(getVehicleType)"
   ]
  },
  {
   "cell_type": "code",
   "execution_count": null,
   "metadata": {},
   "outputs": [],
   "source": [
    "data.head()"
   ]
  },
  {
   "cell_type": "code",
   "execution_count": null,
   "metadata": {
    "collapsed": true
   },
   "outputs": [],
   "source": [
    "def getGearbox(str):\n",
    "    if str.startswith('m'):\n",
    "        return 1\n",
    "    else:\n",
    "        return 2\n",
    "data['gearbox'] = data['gearbox'].apply(getGearbox)\n",
    "test_data['gearbox'] = test_data['gearbox'].apply(getGearbox)"
   ]
  },
  {
   "cell_type": "code",
   "execution_count": null,
   "metadata": {},
   "outputs": [],
   "source": [
    "set(data['fuelType'])"
   ]
  },
  {
   "cell_type": "code",
   "execution_count": null,
   "metadata": {
    "collapsed": true
   },
   "outputs": [],
   "source": [
    "def getFuelType(str):\n",
    "    if str == 'andere':\n",
    "        return 1\n",
    "    elif str == 'benzin':\n",
    "        return 2\n",
    "    elif str == 'cng':\n",
    "        return 3\n",
    "    elif str == 'diesel':\n",
    "        return 4\n",
    "    elif str == 'elektro':\n",
    "        return 5\n",
    "    elif str == 'hybrid':\n",
    "        return 6\n",
    "    else:\n",
    "        return 7\n",
    "data['fuelType'] = data['fuelType'].apply(getFuelType)\n",
    "test_data['fuelType'] = test_data['fuelType'].apply(getFuelType)"
   ]
  },
  {
   "cell_type": "code",
   "execution_count": null,
   "metadata": {
    "collapsed": true
   },
   "outputs": [],
   "source": [
    "def getnotRepairedDamage(str):\n",
    "    if str == 'nein':\n",
    "        return 1\n",
    "    else:\n",
    "        return 2\n",
    "data['notRepairedDamage'] = data['notRepairedDamage'].apply(getnotRepairedDamage)\n",
    "test_data['notRepairedDamage'] = test_data['notRepairedDamage'].apply(getnotRepairedDamage)"
   ]
  },
  {
   "cell_type": "code",
   "execution_count": null,
   "metadata": {
    "collapsed": true
   },
   "outputs": [],
   "source": [
    "models = set(data['model'])\n",
    "modelNos = {}\n",
    "i = 1\n",
    "for model in models:\n",
    "    modelNos[model] = i\n",
    "    i += 1"
   ]
  },
  {
   "cell_type": "code",
   "execution_count": null,
   "metadata": {
    "collapsed": true
   },
   "outputs": [],
   "source": [
    "test_data['model'] = test_data['model'].replace('discovery_sport','discovery')"
   ]
  },
  {
   "cell_type": "code",
   "execution_count": null,
   "metadata": {
    "collapsed": true
   },
   "outputs": [],
   "source": [
    "def getModel(str):\n",
    "    return modelNos[str]\n",
    "data['model'] = data['model'].apply(getModel)\n",
    "test_data['model'] = test_data['model'].apply(getModel)"
   ]
  },
  {
   "cell_type": "code",
   "execution_count": null,
   "metadata": {
    "collapsed": true
   },
   "outputs": [],
   "source": [
    "brands = set(data['brand'])\n",
    "brandNo = {}\n",
    "i = 1\n",
    "for brand in brands:\n",
    "    brandNo[brand] = i\n",
    "    i += 1"
   ]
  },
  {
   "cell_type": "code",
   "execution_count": null,
   "metadata": {
    "collapsed": true
   },
   "outputs": [],
   "source": [
    "def getBrand(str):\n",
    "    return brandNo[str]\n",
    "data['brand'] = data['brand'].apply(getBrand)\n",
    "test_data['brand'] = test_data['brand'].apply(getBrand)"
   ]
  },
  {
   "cell_type": "code",
   "execution_count": null,
   "metadata": {},
   "outputs": [],
   "source": [
    "data.head()"
   ]
  },
  {
   "cell_type": "code",
   "execution_count": null,
   "metadata": {},
   "outputs": [],
   "source": [
    "data.head()"
   ]
  },
  {
   "cell_type": "code",
   "execution_count": null,
   "metadata": {
    "collapsed": true
   },
   "outputs": [],
   "source": [
    "for vt in set(data['vehicleType']):\n",
    "    data['vehicleType'+str(vt)] = (data['vehicleType'] == vt).astype(int)\n",
    "    test_data['vehicleType'+str(vt)] = (test_data['vehicleType'] == vt).astype(int)"
   ]
  },
  {
   "cell_type": "code",
   "execution_count": null,
   "metadata": {},
   "outputs": [],
   "source": [
    "data.head()"
   ]
  },
  {
   "cell_type": "code",
   "execution_count": null,
   "metadata": {
    "collapsed": true
   },
   "outputs": [],
   "source": [
    "del data['vehicleType']\n",
    "del test_data['vehicleType']"
   ]
  },
  {
   "cell_type": "code",
   "execution_count": null,
   "metadata": {
    "collapsed": true
   },
   "outputs": [],
   "source": [
    "data['brandModel'] = data['brand'].astype(str) + data['model'].astype(str)\n",
    "test_data['brandModel'] = test_data['brand'].astype(str) + test_data['model'].astype(str)"
   ]
  },
  {
   "cell_type": "code",
   "execution_count": null,
   "metadata": {},
   "outputs": [],
   "source": [
    "data.head()"
   ]
  },
  {
   "cell_type": "code",
   "execution_count": null,
   "metadata": {},
   "outputs": [],
   "source": [
    "len(set(data['brandModel']))"
   ]
  },
  {
   "cell_type": "code",
   "execution_count": null,
   "metadata": {
    "collapsed": true
   },
   "outputs": [],
   "source": [
    "del data['brand']\n",
    "del data['model']\n",
    "\n",
    "del test_data['brand']\n",
    "del test_data['model']"
   ]
  },
  {
   "cell_type": "code",
   "execution_count": null,
   "metadata": {
    "collapsed": true
   },
   "outputs": [],
   "source": [
    "for bm in set(data['brandModel']):\n",
    "    data['brandModel'+bm] = (data['brandModel'] == bm).astype(int)\n",
    "    test_data['brandModel'+bm] = (test_data['brandModel'] == bm).astype(int)"
   ]
  },
  {
   "cell_type": "code",
   "execution_count": null,
   "metadata": {
    "collapsed": true
   },
   "outputs": [],
   "source": [
    "del data['brandModel']\n",
    "del test_data['brandModel']"
   ]
  },
  {
   "cell_type": "code",
   "execution_count": null,
   "metadata": {
    "collapsed": true
   },
   "outputs": [],
   "source": [
    "for ft in set(data['fuelType']):\n",
    "    data['fuelType'+str(ft)] = (data['fuelType'] == ft).astype(int)\n",
    "    test_data['fuelType'+str(ft)] = (test_data['fuelType'] == ft).astype(int)"
   ]
  },
  {
   "cell_type": "code",
   "execution_count": null,
   "metadata": {
    "collapsed": true
   },
   "outputs": [],
   "source": [
    "del data['fuelType']\n",
    "del test_data['fuelType']"
   ]
  },
  {
   "cell_type": "code",
   "execution_count": null,
   "metadata": {
    "collapsed": true
   },
   "outputs": [],
   "source": [
    "price = data['price']"
   ]
  },
  {
   "cell_type": "code",
   "execution_count": null,
   "metadata": {
    "collapsed": true
   },
   "outputs": [],
   "source": [
    "m = price.median()\n",
    "price = price.replace(0,m)"
   ]
  },
  {
   "cell_type": "code",
   "execution_count": null,
   "metadata": {
    "collapsed": true
   },
   "outputs": [],
   "source": [
    "data['finalPrice'] = price"
   ]
  },
  {
   "cell_type": "code",
   "execution_count": null,
   "metadata": {
    "collapsed": true
   },
   "outputs": [],
   "source": [
    "del data['price']"
   ]
  },
  {
   "cell_type": "code",
   "execution_count": null,
   "metadata": {
    "collapsed": true
   },
   "outputs": [],
   "source": [
    "del data['seller']\n",
    "del data['offerType']\n",
    "del data['abtest']\n",
    "\n",
    "del test_data['seller']\n",
    "del test_data['offerType']\n",
    "del test_data['abtest']"
   ]
  },
  {
   "cell_type": "code",
   "execution_count": null,
   "metadata": {
    "collapsed": true
   },
   "outputs": [],
   "source": [
    "data = data[(data['age'] > 0) & (data['age'] < 70)]"
   ]
  },
  {
   "cell_type": "code",
   "execution_count": null,
   "metadata": {
    "collapsed": true
   },
   "outputs": [],
   "source": [
    "data = data[(data.finalPrice > 100) & (data.finalPrice < 150000)]"
   ]
  },
  {
   "cell_type": "code",
   "execution_count": null,
   "metadata": {
    "collapsed": true
   },
   "outputs": [],
   "source": [
    "data = data[(data.powerPS > 10) & (data.powerPS <= 500)]"
   ]
  },
  {
   "cell_type": "code",
   "execution_count": null,
   "metadata": {},
   "outputs": [],
   "source": [
    "data.values.shape\n",
    "test_data.values.shape"
   ]
  },
  {
   "cell_type": "code",
   "execution_count": null,
   "metadata": {
    "collapsed": true
   },
   "outputs": [],
   "source": [
    "x = data.values[:,:-1]\n",
    "y = data.values[:,-1]\n",
    "x_test = test_data.values"
   ]
  },
  {
   "cell_type": "code",
   "execution_count": null,
   "metadata": {
    "collapsed": true
   },
   "outputs": [],
   "source": [
    "sc = MinMaxScaler()\n",
    "x_train = sc.fit_transform(x)\n",
    "x_test = sc.transform(x_test)"
   ]
  },
  {
   "cell_type": "code",
   "execution_count": null,
   "metadata": {
    "collapsed": true
   },
   "outputs": [],
   "source": [
    "x_train, x_t, y_train, y_t = train_test_split(x,y,random_state=0)"
   ]
  },
  {
   "cell_type": "code",
   "execution_count": null,
   "metadata": {},
   "outputs": [],
   "source": [
    "from sklearn.ensemble import RandomForestRegressor\n",
    "clf = RandomForestRegressor(n_estimators=50, n_jobs=-1, max_depth=20, random_state=1)\n",
    "clf.fit(x_train,y_train)"
   ]
  },
  {
   "cell_type": "code",
   "execution_count": null,
   "metadata": {},
   "outputs": [],
   "source": [
    "#0.86550434113389607\n",
    "clf.score(x_t, y_t)"
   ]
  },
  {
   "cell_type": "code",
   "execution_count": null,
   "metadata": {},
   "outputs": [],
   "source": [
    "clf.fit(x,y)"
   ]
  },
  {
   "cell_type": "code",
   "execution_count": null,
   "metadata": {
    "collapsed": true
   },
   "outputs": [],
   "source": [
    "y_pred = clf.predict(x_test)"
   ]
  },
  {
   "cell_type": "code",
   "execution_count": null,
   "metadata": {
    "collapsed": true
   },
   "outputs": [],
   "source": [
    "np.savetxt(\"Prediction.csv\",y_pred,fmt=\"%i\")"
   ]
  },
  {
   "cell_type": "code",
   "execution_count": null,
   "metadata": {
    "collapsed": true
   },
   "outputs": [],
   "source": [
    "y_pred.shape"
   ]
  }
 ],
 "metadata": {
  "kernelspec": {
   "display_name": "Python 3",
   "language": "python",
   "name": "python3"
  },
  "language_info": {
   "codemirror_mode": {
    "name": "ipython",
    "version": 3
   },
   "file_extension": ".py",
   "mimetype": "text/x-python",
   "name": "python",
   "nbconvert_exporter": "python",
   "pygments_lexer": "ipython3",
   "version": "3.6.2"
  }
 },
 "nbformat": 4,
 "nbformat_minor": 2
}
